{
 "cells": [
  {
   "cell_type": "code",
   "execution_count": 15,
   "metadata": {},
   "outputs": [],
   "source": [
    "import plotly.express as px\n",
    "import plotly.graph_objects as go\n",
    "import pandas as pd\n",
    "import numpy as np\n",
    "import os\n",
    "from plotly.subplots import make_subplots"
   ]
  },
  {
   "cell_type": "code",
   "execution_count": 46,
   "metadata": {},
   "outputs": [],
   "source": [
    "obvious_results = pd.read_csv('obvious.csv')\n",
    "fancy_results = pd.read_csv('fancy.csv')\n",
    "fancy_results['algorithm'] = 'Optimal'\n",
    "obvious_results['algorithm'] = 'Basic'\n",
    "results = pd.concat([obvious_results, fancy_results])\n",
    "    "
   ]
  },
  {
   "cell_type": "code",
   "execution_count": 87,
   "metadata": {},
   "outputs": [
    {
     "data": {
      "application/vnd.plotly.v1+json": {
       "config": {
        "plotlyServerURL": "https://plot.ly"
       },
       "data": [
        {
         "hovertemplate": "algorithm=Basic<br>costumers=%{x}<br>time=%{y}<extra></extra>",
         "legendgroup": "Basic",
         "line": {
          "color": "#636efa",
          "dash": "solid"
         },
         "marker": {
          "symbol": "circle"
         },
         "mode": "lines",
         "name": "Basic",
         "orientation": "v",
         "showlegend": true,
         "type": "scatter",
         "x": [
          50,
          100,
          150,
          200,
          250,
          300,
          350,
          400,
          450,
          500,
          550,
          600,
          650,
          700,
          750,
          800,
          850,
          900,
          950,
          1000
         ],
         "xaxis": "x",
         "y": [
          0,
          1,
          2,
          3,
          4,
          4,
          5,
          6,
          7,
          8,
          9,
          10,
          10,
          12,
          13,
          13,
          14,
          15,
          16,
          16
         ],
         "yaxis": "y"
        },
        {
         "hovertemplate": "algorithm=Optimal<br>costumers=%{x}<br>time=%{y}<extra></extra>",
         "legendgroup": "Optimal",
         "line": {
          "color": "#EF553B",
          "dash": "solid"
         },
         "marker": {
          "symbol": "circle"
         },
         "mode": "lines",
         "name": "Optimal",
         "orientation": "v",
         "showlegend": true,
         "type": "scatter",
         "x": [
          50,
          100,
          150,
          200,
          250,
          300,
          350,
          400,
          450,
          500,
          550,
          600,
          650,
          700,
          750,
          800,
          850,
          900,
          950,
          1000
         ],
         "xaxis": "x",
         "y": [
          2,
          4,
          6,
          8,
          10,
          12,
          14,
          16,
          18,
          22,
          23,
          24,
          26,
          30,
          31,
          36,
          34,
          38,
          41,
          42
         ],
         "yaxis": "y"
        },
        {
         "hovertemplate": "algorithm=Basic<br>costumers=%{x}<br>time=%{y}<extra></extra>",
         "legendgroup": "Basic",
         "line": {
          "color": "#636efa",
          "dash": "solid"
         },
         "marker": {
          "symbol": "circle"
         },
         "mode": "lines",
         "name": "Basic",
         "orientation": "v",
         "showlegend": false,
         "type": "scatter",
         "x": [
          50,
          100,
          150,
          200,
          250,
          300,
          350,
          400,
          450,
          500,
          550,
          600,
          650,
          700,
          750,
          800,
          850,
          900,
          950,
          1000
         ],
         "xaxis": "x2",
         "y": [
          1,
          2,
          3,
          4,
          7,
          6,
          8,
          9,
          11,
          14,
          13,
          13,
          15,
          17,
          17,
          20,
          21,
          20,
          21,
          23
         ],
         "yaxis": "y2"
        },
        {
         "hovertemplate": "algorithm=Optimal<br>costumers=%{x}<br>time=%{y}<extra></extra>",
         "legendgroup": "Optimal",
         "line": {
          "color": "#EF553B",
          "dash": "solid"
         },
         "marker": {
          "symbol": "circle"
         },
         "mode": "lines",
         "name": "Optimal",
         "orientation": "v",
         "showlegend": false,
         "type": "scatter",
         "x": [
          50,
          100,
          150,
          200,
          250,
          300,
          350,
          400,
          450,
          500,
          550,
          600,
          650,
          700,
          750,
          800,
          850,
          900,
          950,
          1000
         ],
         "xaxis": "x2",
         "y": [
          5,
          9,
          14,
          21,
          24,
          29,
          35,
          40,
          47,
          55,
          55,
          60,
          68,
          78,
          81,
          94,
          85,
          91,
          94,
          108
         ],
         "yaxis": "y2"
        },
        {
         "hovertemplate": "algorithm=Basic<br>costumers=%{x}<br>time=%{y}<extra></extra>",
         "legendgroup": "Basic",
         "line": {
          "color": "#636efa",
          "dash": "solid"
         },
         "marker": {
          "symbol": "circle"
         },
         "mode": "lines",
         "name": "Basic",
         "orientation": "v",
         "showlegend": false,
         "type": "scatter",
         "x": [
          150,
          200,
          250,
          300,
          350,
          400,
          450,
          500,
          550,
          600,
          650,
          700,
          750,
          800,
          850,
          900,
          950,
          1000
         ],
         "xaxis": "x3",
         "y": [
          4,
          6,
          9,
          9,
          11,
          11,
          13,
          13,
          14,
          18,
          19,
          18,
          20,
          21,
          23,
          22,
          24,
          26
         ],
         "yaxis": "y3"
        },
        {
         "hovertemplate": "algorithm=Optimal<br>costumers=%{x}<br>time=%{y}<extra></extra>",
         "legendgroup": "Optimal",
         "line": {
          "color": "#EF553B",
          "dash": "solid"
         },
         "marker": {
          "symbol": "circle"
         },
         "mode": "lines",
         "name": "Optimal",
         "orientation": "v",
         "showlegend": false,
         "type": "scatter",
         "x": [
          150,
          200,
          250,
          300,
          350,
          400,
          450,
          500,
          550,
          600,
          650,
          700,
          750,
          800,
          850,
          900,
          950,
          1000
         ],
         "xaxis": "x3",
         "y": [
          53,
          76,
          102,
          120,
          153,
          181,
          201,
          251,
          236,
          252,
          286,
          313,
          315,
          345,
          376,
          391,
          419,
          435
         ],
         "yaxis": "y3"
        },
        {
         "hovertemplate": "algorithm=Basic<br>costumers=%{x}<br>time=%{y}<extra></extra>",
         "legendgroup": "Basic",
         "line": {
          "color": "#636efa",
          "dash": "solid"
         },
         "marker": {
          "symbol": "circle"
         },
         "mode": "lines",
         "name": "Basic",
         "orientation": "v",
         "showlegend": false,
         "type": "scatter",
         "x": [
          450,
          500,
          550,
          600,
          650,
          700,
          750,
          800,
          850,
          900,
          950,
          1000
         ],
         "xaxis": "x4",
         "y": [
          12,
          14,
          16,
          18,
          21,
          21,
          23,
          26,
          28,
          29,
          34,
          31
         ],
         "yaxis": "y4"
        },
        {
         "hovertemplate": "algorithm=Optimal<br>costumers=%{x}<br>time=%{y}<extra></extra>",
         "legendgroup": "Optimal",
         "line": {
          "color": "#EF553B",
          "dash": "solid"
         },
         "marker": {
          "symbol": "circle"
         },
         "mode": "lines",
         "name": "Optimal",
         "orientation": "v",
         "showlegend": false,
         "type": "scatter",
         "x": [
          450,
          500,
          550,
          600,
          650,
          700,
          750,
          800,
          850,
          900,
          950,
          1000
         ],
         "xaxis": "x4",
         "y": [
          767,
          988,
          1016,
          1126,
          1255,
          1292,
          1437,
          1511,
          1731,
          1797,
          1787,
          1922
         ],
         "yaxis": "y4"
        }
       ],
       "layout": {
        "annotations": [
         {
          "font": {
           "size": 16
          },
          "showarrow": false,
          "text": "1 Tickets",
          "x": 0.225,
          "xanchor": "center",
          "xref": "paper",
          "y": 1,
          "yanchor": "bottom",
          "yref": "paper"
         },
         {
          "font": {
           "size": 16
          },
          "showarrow": false,
          "text": "10 Tickets",
          "x": 0.775,
          "xanchor": "center",
          "xref": "paper",
          "y": 1,
          "yanchor": "bottom",
          "yref": "paper"
         },
         {
          "font": {
           "size": 16
          },
          "showarrow": false,
          "text": "50 Tickets",
          "x": 0.225,
          "xanchor": "center",
          "xref": "paper",
          "y": 0.375,
          "yanchor": "bottom",
          "yref": "paper"
         },
         {
          "font": {
           "size": 16
          },
          "showarrow": false,
          "text": "200 Tickets",
          "x": 0.775,
          "xanchor": "center",
          "xref": "paper",
          "y": 0.375,
          "yanchor": "bottom",
          "yref": "paper"
         }
        ],
        "font": {
         "size": 11
        },
        "height": 500,
        "template": {
         "data": {
          "bar": [
           {
            "error_x": {
             "color": "#2a3f5f"
            },
            "error_y": {
             "color": "#2a3f5f"
            },
            "marker": {
             "line": {
              "color": "#E5ECF6",
              "width": 0.5
             },
             "pattern": {
              "fillmode": "overlay",
              "size": 10,
              "solidity": 0.2
             }
            },
            "type": "bar"
           }
          ],
          "barpolar": [
           {
            "marker": {
             "line": {
              "color": "#E5ECF6",
              "width": 0.5
             },
             "pattern": {
              "fillmode": "overlay",
              "size": 10,
              "solidity": 0.2
             }
            },
            "type": "barpolar"
           }
          ],
          "carpet": [
           {
            "aaxis": {
             "endlinecolor": "#2a3f5f",
             "gridcolor": "white",
             "linecolor": "white",
             "minorgridcolor": "white",
             "startlinecolor": "#2a3f5f"
            },
            "baxis": {
             "endlinecolor": "#2a3f5f",
             "gridcolor": "white",
             "linecolor": "white",
             "minorgridcolor": "white",
             "startlinecolor": "#2a3f5f"
            },
            "type": "carpet"
           }
          ],
          "choropleth": [
           {
            "colorbar": {
             "outlinewidth": 0,
             "ticks": ""
            },
            "type": "choropleth"
           }
          ],
          "contour": [
           {
            "colorbar": {
             "outlinewidth": 0,
             "ticks": ""
            },
            "colorscale": [
             [
              0,
              "#0d0887"
             ],
             [
              0.1111111111111111,
              "#46039f"
             ],
             [
              0.2222222222222222,
              "#7201a8"
             ],
             [
              0.3333333333333333,
              "#9c179e"
             ],
             [
              0.4444444444444444,
              "#bd3786"
             ],
             [
              0.5555555555555556,
              "#d8576b"
             ],
             [
              0.6666666666666666,
              "#ed7953"
             ],
             [
              0.7777777777777778,
              "#fb9f3a"
             ],
             [
              0.8888888888888888,
              "#fdca26"
             ],
             [
              1,
              "#f0f921"
             ]
            ],
            "type": "contour"
           }
          ],
          "contourcarpet": [
           {
            "colorbar": {
             "outlinewidth": 0,
             "ticks": ""
            },
            "type": "contourcarpet"
           }
          ],
          "heatmap": [
           {
            "colorbar": {
             "outlinewidth": 0,
             "ticks": ""
            },
            "colorscale": [
             [
              0,
              "#0d0887"
             ],
             [
              0.1111111111111111,
              "#46039f"
             ],
             [
              0.2222222222222222,
              "#7201a8"
             ],
             [
              0.3333333333333333,
              "#9c179e"
             ],
             [
              0.4444444444444444,
              "#bd3786"
             ],
             [
              0.5555555555555556,
              "#d8576b"
             ],
             [
              0.6666666666666666,
              "#ed7953"
             ],
             [
              0.7777777777777778,
              "#fb9f3a"
             ],
             [
              0.8888888888888888,
              "#fdca26"
             ],
             [
              1,
              "#f0f921"
             ]
            ],
            "type": "heatmap"
           }
          ],
          "heatmapgl": [
           {
            "colorbar": {
             "outlinewidth": 0,
             "ticks": ""
            },
            "colorscale": [
             [
              0,
              "#0d0887"
             ],
             [
              0.1111111111111111,
              "#46039f"
             ],
             [
              0.2222222222222222,
              "#7201a8"
             ],
             [
              0.3333333333333333,
              "#9c179e"
             ],
             [
              0.4444444444444444,
              "#bd3786"
             ],
             [
              0.5555555555555556,
              "#d8576b"
             ],
             [
              0.6666666666666666,
              "#ed7953"
             ],
             [
              0.7777777777777778,
              "#fb9f3a"
             ],
             [
              0.8888888888888888,
              "#fdca26"
             ],
             [
              1,
              "#f0f921"
             ]
            ],
            "type": "heatmapgl"
           }
          ],
          "histogram": [
           {
            "marker": {
             "pattern": {
              "fillmode": "overlay",
              "size": 10,
              "solidity": 0.2
             }
            },
            "type": "histogram"
           }
          ],
          "histogram2d": [
           {
            "colorbar": {
             "outlinewidth": 0,
             "ticks": ""
            },
            "colorscale": [
             [
              0,
              "#0d0887"
             ],
             [
              0.1111111111111111,
              "#46039f"
             ],
             [
              0.2222222222222222,
              "#7201a8"
             ],
             [
              0.3333333333333333,
              "#9c179e"
             ],
             [
              0.4444444444444444,
              "#bd3786"
             ],
             [
              0.5555555555555556,
              "#d8576b"
             ],
             [
              0.6666666666666666,
              "#ed7953"
             ],
             [
              0.7777777777777778,
              "#fb9f3a"
             ],
             [
              0.8888888888888888,
              "#fdca26"
             ],
             [
              1,
              "#f0f921"
             ]
            ],
            "type": "histogram2d"
           }
          ],
          "histogram2dcontour": [
           {
            "colorbar": {
             "outlinewidth": 0,
             "ticks": ""
            },
            "colorscale": [
             [
              0,
              "#0d0887"
             ],
             [
              0.1111111111111111,
              "#46039f"
             ],
             [
              0.2222222222222222,
              "#7201a8"
             ],
             [
              0.3333333333333333,
              "#9c179e"
             ],
             [
              0.4444444444444444,
              "#bd3786"
             ],
             [
              0.5555555555555556,
              "#d8576b"
             ],
             [
              0.6666666666666666,
              "#ed7953"
             ],
             [
              0.7777777777777778,
              "#fb9f3a"
             ],
             [
              0.8888888888888888,
              "#fdca26"
             ],
             [
              1,
              "#f0f921"
             ]
            ],
            "type": "histogram2dcontour"
           }
          ],
          "mesh3d": [
           {
            "colorbar": {
             "outlinewidth": 0,
             "ticks": ""
            },
            "type": "mesh3d"
           }
          ],
          "parcoords": [
           {
            "line": {
             "colorbar": {
              "outlinewidth": 0,
              "ticks": ""
             }
            },
            "type": "parcoords"
           }
          ],
          "pie": [
           {
            "automargin": true,
            "type": "pie"
           }
          ],
          "scatter": [
           {
            "fillpattern": {
             "fillmode": "overlay",
             "size": 10,
             "solidity": 0.2
            },
            "type": "scatter"
           }
          ],
          "scatter3d": [
           {
            "line": {
             "colorbar": {
              "outlinewidth": 0,
              "ticks": ""
             }
            },
            "marker": {
             "colorbar": {
              "outlinewidth": 0,
              "ticks": ""
             }
            },
            "type": "scatter3d"
           }
          ],
          "scattercarpet": [
           {
            "marker": {
             "colorbar": {
              "outlinewidth": 0,
              "ticks": ""
             }
            },
            "type": "scattercarpet"
           }
          ],
          "scattergeo": [
           {
            "marker": {
             "colorbar": {
              "outlinewidth": 0,
              "ticks": ""
             }
            },
            "type": "scattergeo"
           }
          ],
          "scattergl": [
           {
            "marker": {
             "colorbar": {
              "outlinewidth": 0,
              "ticks": ""
             }
            },
            "type": "scattergl"
           }
          ],
          "scattermapbox": [
           {
            "marker": {
             "colorbar": {
              "outlinewidth": 0,
              "ticks": ""
             }
            },
            "type": "scattermapbox"
           }
          ],
          "scatterpolar": [
           {
            "marker": {
             "colorbar": {
              "outlinewidth": 0,
              "ticks": ""
             }
            },
            "type": "scatterpolar"
           }
          ],
          "scatterpolargl": [
           {
            "marker": {
             "colorbar": {
              "outlinewidth": 0,
              "ticks": ""
             }
            },
            "type": "scatterpolargl"
           }
          ],
          "scatterternary": [
           {
            "marker": {
             "colorbar": {
              "outlinewidth": 0,
              "ticks": ""
             }
            },
            "type": "scatterternary"
           }
          ],
          "surface": [
           {
            "colorbar": {
             "outlinewidth": 0,
             "ticks": ""
            },
            "colorscale": [
             [
              0,
              "#0d0887"
             ],
             [
              0.1111111111111111,
              "#46039f"
             ],
             [
              0.2222222222222222,
              "#7201a8"
             ],
             [
              0.3333333333333333,
              "#9c179e"
             ],
             [
              0.4444444444444444,
              "#bd3786"
             ],
             [
              0.5555555555555556,
              "#d8576b"
             ],
             [
              0.6666666666666666,
              "#ed7953"
             ],
             [
              0.7777777777777778,
              "#fb9f3a"
             ],
             [
              0.8888888888888888,
              "#fdca26"
             ],
             [
              1,
              "#f0f921"
             ]
            ],
            "type": "surface"
           }
          ],
          "table": [
           {
            "cells": {
             "fill": {
              "color": "#EBF0F8"
             },
             "line": {
              "color": "white"
             }
            },
            "header": {
             "fill": {
              "color": "#C8D4E3"
             },
             "line": {
              "color": "white"
             }
            },
            "type": "table"
           }
          ]
         },
         "layout": {
          "annotationdefaults": {
           "arrowcolor": "#2a3f5f",
           "arrowhead": 0,
           "arrowwidth": 1
          },
          "autotypenumbers": "strict",
          "coloraxis": {
           "colorbar": {
            "outlinewidth": 0,
            "ticks": ""
           }
          },
          "colorscale": {
           "diverging": [
            [
             0,
             "#8e0152"
            ],
            [
             0.1,
             "#c51b7d"
            ],
            [
             0.2,
             "#de77ae"
            ],
            [
             0.3,
             "#f1b6da"
            ],
            [
             0.4,
             "#fde0ef"
            ],
            [
             0.5,
             "#f7f7f7"
            ],
            [
             0.6,
             "#e6f5d0"
            ],
            [
             0.7,
             "#b8e186"
            ],
            [
             0.8,
             "#7fbc41"
            ],
            [
             0.9,
             "#4d9221"
            ],
            [
             1,
             "#276419"
            ]
           ],
           "sequential": [
            [
             0,
             "#0d0887"
            ],
            [
             0.1111111111111111,
             "#46039f"
            ],
            [
             0.2222222222222222,
             "#7201a8"
            ],
            [
             0.3333333333333333,
             "#9c179e"
            ],
            [
             0.4444444444444444,
             "#bd3786"
            ],
            [
             0.5555555555555556,
             "#d8576b"
            ],
            [
             0.6666666666666666,
             "#ed7953"
            ],
            [
             0.7777777777777778,
             "#fb9f3a"
            ],
            [
             0.8888888888888888,
             "#fdca26"
            ],
            [
             1,
             "#f0f921"
            ]
           ],
           "sequentialminus": [
            [
             0,
             "#0d0887"
            ],
            [
             0.1111111111111111,
             "#46039f"
            ],
            [
             0.2222222222222222,
             "#7201a8"
            ],
            [
             0.3333333333333333,
             "#9c179e"
            ],
            [
             0.4444444444444444,
             "#bd3786"
            ],
            [
             0.5555555555555556,
             "#d8576b"
            ],
            [
             0.6666666666666666,
             "#ed7953"
            ],
            [
             0.7777777777777778,
             "#fb9f3a"
            ],
            [
             0.8888888888888888,
             "#fdca26"
            ],
            [
             1,
             "#f0f921"
            ]
           ]
          },
          "colorway": [
           "#636efa",
           "#EF553B",
           "#00cc96",
           "#ab63fa",
           "#FFA15A",
           "#19d3f3",
           "#FF6692",
           "#B6E880",
           "#FF97FF",
           "#FECB52"
          ],
          "font": {
           "color": "#2a3f5f"
          },
          "geo": {
           "bgcolor": "white",
           "lakecolor": "white",
           "landcolor": "#E5ECF6",
           "showlakes": true,
           "showland": true,
           "subunitcolor": "white"
          },
          "hoverlabel": {
           "align": "left"
          },
          "hovermode": "closest",
          "mapbox": {
           "style": "light"
          },
          "paper_bgcolor": "white",
          "plot_bgcolor": "#E5ECF6",
          "polar": {
           "angularaxis": {
            "gridcolor": "white",
            "linecolor": "white",
            "ticks": ""
           },
           "bgcolor": "#E5ECF6",
           "radialaxis": {
            "gridcolor": "white",
            "linecolor": "white",
            "ticks": ""
           }
          },
          "scene": {
           "xaxis": {
            "backgroundcolor": "#E5ECF6",
            "gridcolor": "white",
            "gridwidth": 2,
            "linecolor": "white",
            "showbackground": true,
            "ticks": "",
            "zerolinecolor": "white"
           },
           "yaxis": {
            "backgroundcolor": "#E5ECF6",
            "gridcolor": "white",
            "gridwidth": 2,
            "linecolor": "white",
            "showbackground": true,
            "ticks": "",
            "zerolinecolor": "white"
           },
           "zaxis": {
            "backgroundcolor": "#E5ECF6",
            "gridcolor": "white",
            "gridwidth": 2,
            "linecolor": "white",
            "showbackground": true,
            "ticks": "",
            "zerolinecolor": "white"
           }
          },
          "shapedefaults": {
           "line": {
            "color": "#2a3f5f"
           }
          },
          "ternary": {
           "aaxis": {
            "gridcolor": "white",
            "linecolor": "white",
            "ticks": ""
           },
           "baxis": {
            "gridcolor": "white",
            "linecolor": "white",
            "ticks": ""
           },
           "bgcolor": "#E5ECF6",
           "caxis": {
            "gridcolor": "white",
            "linecolor": "white",
            "ticks": ""
           }
          },
          "title": {
           "x": 0.05
          },
          "xaxis": {
           "automargin": true,
           "gridcolor": "white",
           "linecolor": "white",
           "ticks": "",
           "title": {
            "standoff": 15
           },
           "zerolinecolor": "white",
           "zerolinewidth": 2
          },
          "yaxis": {
           "automargin": true,
           "gridcolor": "white",
           "linecolor": "white",
           "ticks": "",
           "title": {
            "standoff": 15
           },
           "zerolinecolor": "white",
           "zerolinewidth": 2
          }
         }
        },
        "title": {
         "text": "Running Time"
        },
        "width": 1000,
        "xaxis": {
         "anchor": "y",
         "domain": [
          0,
          0.45
         ],
         "title": {
          "text": "Costumers"
         }
        },
        "xaxis2": {
         "anchor": "y2",
         "domain": [
          0.55,
          1
         ],
         "title": {
          "text": "Costumers"
         }
        },
        "xaxis3": {
         "anchor": "y3",
         "domain": [
          0,
          0.45
         ],
         "title": {
          "text": "Costumers"
         }
        },
        "xaxis4": {
         "anchor": "y4",
         "domain": [
          0.55,
          1
         ],
         "title": {
          "text": "Costumers"
         }
        },
        "yaxis": {
         "anchor": "x",
         "domain": [
          0.625,
          1
         ],
         "title": {
          "text": "Time (ms)"
         }
        },
        "yaxis2": {
         "anchor": "x2",
         "domain": [
          0.625,
          1
         ],
         "title": {
          "text": "Time (ms)"
         }
        },
        "yaxis3": {
         "anchor": "x3",
         "domain": [
          0,
          0.375
         ],
         "title": {
          "text": "Time (ms)"
         }
        },
        "yaxis4": {
         "anchor": "x4",
         "domain": [
          0,
          0.375
         ],
         "title": {
          "text": "Time (ms)"
         }
        }
       }
      }
     },
     "metadata": {},
     "output_type": "display_data"
    }
   ],
   "source": [
    "# Put the time plots in a 2x2 grid\n",
    "fig = make_subplots(rows=2, cols=2, subplot_titles=[f'{i} Tickets' for i in results['tickets'].unique()])\n",
    "fig.update_layout(height=500, width=1000, title_text='Running Time')\n",
    "fig.update_xaxes(title_text='Costumers')\n",
    "fig.update_yaxes(title_text='Time (ms)')\n",
    "fig.update_traces(mode='markers+lines')\n",
    "\n",
    "# smaller font size\n",
    "fig.update_layout(font=dict(size=11))\n",
    "\n",
    "\n",
    "i = 0\n",
    "for tickets in results['tickets'].unique():\n",
    "    data = results[results['tickets'] == tickets]\n",
    "    subfig = px.line(data, x='costumers', y='time', color='algorithm', title=f'Time - {tickets} Tickets')\n",
    "    subfig.update_layout(showlegend=False)\n",
    "    subfig.data[0].update(legendgroup='Basic', showlegend=False)\n",
    "    subfig.data[1].update(legendgroup='Optimal', showlegend=False)\n",
    "\n",
    "    fig.add_trace(subfig.data[0], row=i//2+1, col=i%2+1)\n",
    "    fig.add_trace(subfig.data[1], row=i//2+1, col=i%2+1)\n",
    "    i += 1\n",
    "\n",
    "# show legends only once\n",
    "fig.data[0].update(showlegend=True)\n",
    "fig.data[1].update(showlegend=True)\n",
    "fig.show()"
   ]
  },
  {
   "cell_type": "code",
   "execution_count": 88,
   "metadata": {},
   "outputs": [
    {
     "data": {
      "application/vnd.plotly.v1+json": {
       "config": {
        "plotlyServerURL": "https://plot.ly"
       },
       "data": [
        {
         "hovertemplate": "algorithm=Basic<br>costumers=%{x}<br>income=%{y}<extra></extra>",
         "legendgroup": "Basic",
         "line": {
          "color": "#636efa",
          "dash": "solid"
         },
         "marker": {
          "symbol": "circle"
         },
         "mode": "lines",
         "name": "Basic",
         "orientation": "v",
         "showlegend": true,
         "type": "scatter",
         "x": [
          50,
          100,
          150,
          200,
          250,
          300,
          350,
          400,
          450,
          500,
          550,
          600,
          650,
          700,
          750,
          800,
          850,
          900,
          950,
          1000
         ],
         "xaxis": "x",
         "y": [
          0.62132,
          0.61083,
          0.59302,
          0.6169,
          0.616524,
          0.63687,
          0.639169,
          0.639398,
          0.621616,
          0.629738,
          0.621867,
          0.645922,
          0.629031,
          0.637089,
          0.631157,
          0.616229,
          0.630258,
          0.626303,
          0.636329,
          0.620379
         ],
         "yaxis": "y"
        },
        {
         "hovertemplate": "algorithm=Optimal<br>costumers=%{x}<br>income=%{y}<extra></extra>",
         "legendgroup": "Optimal",
         "line": {
          "color": "#EF553B",
          "dash": "solid"
         },
         "marker": {
          "symbol": "circle"
         },
         "mode": "lines",
         "name": "Optimal",
         "orientation": "v",
         "showlegend": true,
         "type": "scatter",
         "x": [
          50,
          100,
          150,
          200,
          250,
          300,
          350,
          400,
          450,
          500,
          550,
          600,
          650,
          700,
          750,
          800,
          850,
          900,
          950,
          1000
         ],
         "xaxis": "x",
         "y": [
          0.929245,
          0.96408,
          0.974585,
          0.980012,
          0.985464,
          0.986434,
          0.989577,
          0.990188,
          0.991947,
          0.992219,
          0.992714,
          0.992907,
          0.994042,
          0.994562,
          0.994753,
          0.994769,
          0.995693,
          0.995684,
          0.995622,
          0.996002
         ],
         "yaxis": "y"
        },
        {
         "fill": "toself",
         "fillcolor": "rgba(0,60,200,0.15)",
         "hoverinfo": "skip",
         "legendgroup": "Basic",
         "line": {
          "color": "rgba(255,255,255,0)"
         },
         "name": "Basic",
         "showlegend": false,
         "type": "scatter",
         "x": [
          50,
          100,
          150,
          200,
          250,
          300,
          350,
          400,
          450,
          500,
          550,
          600,
          650,
          700,
          750,
          800,
          850,
          900,
          950,
          1000,
          1000,
          950,
          900,
          850,
          800,
          750,
          700,
          650,
          600,
          550,
          500,
          450,
          400,
          350,
          300,
          250,
          200,
          150,
          100,
          50
         ],
         "xaxis": "x",
         "y": [
          1.0933950000000001,
          1.092087,
          1.080251,
          1.09986,
          1.100214,
          1.11556,
          1.117506,
          1.117906,
          1.1051739999999999,
          1.111307,
          1.105621,
          1.123028,
          1.1110929999999999,
          1.116981,
          1.112775,
          1.10174,
          1.1122239999999999,
          1.1093680000000001,
          1.116688,
          1.105032,
          0.135726,
          0.15597000000000005,
          0.14323800000000003,
          0.14829199999999998,
          0.130718,
          0.14953899999999998,
          0.15719700000000003,
          0.14696900000000002,
          0.16881600000000002,
          0.13811299999999993,
          0.148169,
          0.13805799999999996,
          0.16089000000000003,
          0.16083199999999997,
          0.15818000000000004,
          0.13283399999999995,
          0.13394,
          0.10578899999999997,
          0.129573,
          0.14924499999999996
         ],
         "yaxis": "y"
        },
        {
         "fill": "toself",
         "fillcolor": "rgba(200,60,0,0.2)",
         "hoverinfo": "skip",
         "legendgroup": "Optimal",
         "line": {
          "color": "rgba(255,255,255,0)"
         },
         "name": "Optimal",
         "showlegend": false,
         "type": "scatter",
         "x": [
          50,
          100,
          150,
          200,
          250,
          300,
          350,
          400,
          450,
          500,
          550,
          600,
          650,
          700,
          750,
          800,
          850,
          900,
          950,
          1000,
          1000,
          950,
          900,
          850,
          800,
          750,
          700,
          650,
          600,
          550,
          500,
          450,
          400,
          350,
          300,
          250,
          200,
          150,
          100,
          50
         ],
         "xaxis": "x",
         "y": [
          1.0232618,
          0.9994454,
          1.0123925,
          1.009178,
          0.9960067,
          1.0197936,
          0.9974140100000001,
          1.0003115,
          0.99915283,
          1.00041991,
          1.00056779,
          1.017376,
          0.99953664,
          1.0013897699999998,
          0.99987479,
          1.00238354,
          0.99904276,
          1.00129113,
          1.00208822,
          1.00052475,
          0.99147925,
          0.98915578,
          0.99007687,
          0.9923432400000001,
          0.9871544600000001,
          0.98963121,
          0.9877342299999999,
          0.98854736,
          0.968438,
          0.98486021,
          0.98401809,
          0.98474117,
          0.9800645,
          0.98173999,
          0.9530744,
          0.9749213,
          0.950846,
          0.9367775,
          0.9287146000000001,
          0.8352282
         ],
         "yaxis": "y"
        },
        {
         "hovertemplate": "algorithm=Basic<br>costumers=%{x}<br>income=%{y}<extra></extra>",
         "legendgroup": "Basic",
         "line": {
          "color": "#636efa",
          "dash": "solid"
         },
         "marker": {
          "symbol": "circle"
         },
         "mode": "lines",
         "name": "Basic",
         "orientation": "v",
         "showlegend": false,
         "type": "scatter",
         "x": [
          50,
          100,
          150,
          200,
          250,
          300,
          350,
          400,
          450,
          500,
          550,
          600,
          650,
          700,
          750,
          800,
          850,
          900,
          950,
          1000
         ],
         "xaxis": "x2",
         "y": [
          7.1504,
          7.902,
          8.1312,
          8.3695,
          8.43072,
          8.46027,
          8.50389,
          8.5293,
          8.56142,
          8.57598,
          8.55164,
          8.65137,
          8.68825,
          8.66936,
          8.62248,
          8.52904,
          8.62334,
          8.78232,
          8.61535,
          8.66052
         ],
         "yaxis": "y2"
        },
        {
         "hovertemplate": "algorithm=Optimal<br>costumers=%{x}<br>income=%{y}<extra></extra>",
         "legendgroup": "Optimal",
         "line": {
          "color": "#EF553B",
          "dash": "solid"
         },
         "marker": {
          "symbol": "circle"
         },
         "mode": "lines",
         "name": "Optimal",
         "orientation": "v",
         "showlegend": false,
         "type": "scatter",
         "x": [
          50,
          100,
          150,
          200,
          250,
          300,
          350,
          400,
          450,
          500,
          550,
          600,
          650,
          700,
          750,
          800,
          850,
          900,
          950,
          1000
         ],
         "xaxis": "x2",
         "y": [
          7.49765,
          8.68928,
          9.10475,
          9.31291,
          9.43984,
          9.53988,
          9.60671,
          9.65654,
          9.68442,
          9.72143,
          9.74372,
          9.76792,
          9.78637,
          9.80114,
          9.81411,
          9.82284,
          9.83389,
          9.84351,
          9.85483,
          9.85944
         ],
         "yaxis": "y2"
        },
        {
         "fill": "toself",
         "fillcolor": "rgba(0,60,200,0.15)",
         "hoverinfo": "skip",
         "legendgroup": "Basic",
         "line": {
          "color": "rgba(255,255,255,0)"
         },
         "name": "Basic",
         "showlegend": false,
         "type": "scatter",
         "x": [
          50,
          100,
          150,
          200,
          250,
          300,
          350,
          400,
          450,
          500,
          550,
          600,
          650,
          700,
          750,
          800,
          850,
          900,
          950,
          1000,
          1000,
          950,
          900,
          850,
          800,
          750,
          700,
          650,
          600,
          550,
          500,
          450,
          400,
          350,
          300,
          250,
          200,
          150,
          100,
          50
         ],
         "xaxis": "x2",
         "y": [
          8.38358,
          9.42606,
          9.74321,
          9.99283,
          10.107970000000002,
          10.102039999999999,
          10.12867,
          10.15509,
          10.26524,
          10.27254,
          10.251040000000001,
          10.31991,
          10.36529,
          10.337219999999999,
          10.30933,
          10.220880000000001,
          10.371410000000001,
          10.40145,
          10.37904,
          10.3731,
          6.94794,
          6.851659999999999,
          7.16319,
          6.87527,
          6.8372,
          6.93563,
          7.001499999999999,
          7.01121,
          6.98283,
          6.852240000000001,
          6.87942,
          6.8576,
          6.903509999999999,
          6.879110000000001,
          6.818499999999999,
          6.753470000000001,
          6.74617,
          6.51919,
          6.377940000000001,
          5.91722
         ],
         "yaxis": "y2"
        },
        {
         "fill": "toself",
         "fillcolor": "rgba(200,60,0,0.2)",
         "hoverinfo": "skip",
         "legendgroup": "Optimal",
         "line": {
          "color": "rgba(255,255,255,0)"
         },
         "name": "Optimal",
         "showlegend": false,
         "type": "scatter",
         "x": [
          50,
          100,
          150,
          200,
          250,
          300,
          350,
          400,
          450,
          500,
          550,
          600,
          650,
          700,
          750,
          800,
          850,
          900,
          950,
          1000,
          1000,
          950,
          900,
          850,
          800,
          750,
          700,
          650,
          600,
          550,
          500,
          450,
          400,
          350,
          300,
          250,
          200,
          150,
          100,
          50
         ],
         "xaxis": "x2",
         "y": [
          8.185372000000001,
          9.110305,
          9.42598,
          9.551721,
          9.673926,
          9.711574,
          9.74339,
          9.780807,
          9.820521,
          9.821749,
          9.856099,
          9.8509388,
          9.8800834,
          9.8810282,
          9.897648199999999,
          9.8972236,
          9.9008702,
          9.9130839,
          9.8979585,
          9.9093228,
          9.809557199999999,
          9.8117015,
          9.7739361,
          9.7669098,
          9.748456399999998,
          9.7305718,
          9.721251800000001,
          9.6926566,
          9.6849012,
          9.631340999999999,
          9.621110999999999,
          9.548319,
          9.532273,
          9.47003,
          9.368186,
          9.205754,
          9.074099,
          8.78352,
          8.268255,
          6.809928
         ],
         "yaxis": "y2"
        },
        {
         "hovertemplate": "algorithm=Basic<br>costumers=%{x}<br>income=%{y}<extra></extra>",
         "legendgroup": "Basic",
         "line": {
          "color": "#636efa",
          "dash": "solid"
         },
         "marker": {
          "symbol": "circle"
         },
         "mode": "lines",
         "name": "Basic",
         "orientation": "v",
         "showlegend": false,
         "type": "scatter",
         "x": [
          150,
          200,
          250,
          300,
          350,
          400,
          450,
          500,
          550,
          600,
          650,
          700,
          750,
          800,
          850,
          900,
          950,
          1000
         ],
         "xaxis": "x3",
         "y": [
          31.7953,
          35.7435,
          37.9704,
          39.5258,
          40.5686,
          41.5529,
          42.1538,
          42.7761,
          43.0027,
          43.3208,
          43.7538,
          43.9289,
          44.1663,
          44.1525,
          44.2748,
          44.6203,
          44.8645,
          44.9872
         ],
         "yaxis": "y3"
        },
        {
         "hovertemplate": "algorithm=Optimal<br>costumers=%{x}<br>income=%{y}<extra></extra>",
         "legendgroup": "Optimal",
         "line": {
          "color": "#EF553B",
          "dash": "solid"
         },
         "marker": {
          "symbol": "circle"
         },
         "mode": "lines",
         "name": "Optimal",
         "orientation": "v",
         "showlegend": false,
         "type": "scatter",
         "x": [
          150,
          200,
          250,
          300,
          350,
          400,
          450,
          500,
          550,
          600,
          650,
          700,
          750,
          800,
          850,
          900,
          950,
          1000
         ],
         "xaxis": "x3",
         "y": [
          32.4015,
          36.6907,
          39.1696,
          41.0253,
          42.2476,
          43.1597,
          43.9514,
          44.513,
          45.0304,
          45.4308,
          45.8059,
          46.0866,
          46.3408,
          46.5657,
          46.7692,
          46.9573,
          47.1253,
          47.2422
         ],
         "yaxis": "y3"
        },
        {
         "fill": "toself",
         "fillcolor": "rgba(0,60,200,0.15)",
         "hoverinfo": "skip",
         "legendgroup": "Basic",
         "line": {
          "color": "rgba(255,255,255,0)"
         },
         "name": "Basic",
         "showlegend": false,
         "type": "scatter",
         "x": [
          150,
          200,
          250,
          300,
          350,
          400,
          450,
          500,
          550,
          600,
          650,
          700,
          750,
          800,
          850,
          900,
          950,
          1000,
          1000,
          950,
          900,
          850,
          800,
          750,
          700,
          650,
          600,
          550,
          500,
          450,
          400,
          350,
          300,
          250,
          200,
          150
         ],
         "xaxis": "x3",
         "y": [
          34.05084,
          38.288979999999995,
          40.92809,
          42.59301,
          43.827220000000004,
          44.61213,
          45.527139999999996,
          46.03245,
          46.45811,
          46.89626,
          47.18089,
          47.67913,
          47.71591,
          47.870580000000004,
          48.09605,
          48.37475,
          48.49745,
          48.746970000000005,
          41.22743,
          41.23155,
          40.86585,
          40.45355,
          40.43442,
          40.61669,
          40.17867,
          40.32671,
          39.74534,
          39.54729,
          39.51975,
          38.78046,
          38.49367,
          37.30998,
          36.458589999999994,
          35.01271,
          33.19802,
          29.53976
         ],
         "yaxis": "y3"
        },
        {
         "fill": "toself",
         "fillcolor": "rgba(200,60,0,0.2)",
         "hoverinfo": "skip",
         "legendgroup": "Optimal",
         "line": {
          "color": "rgba(255,255,255,0)"
         },
         "name": "Optimal",
         "showlegend": false,
         "type": "scatter",
         "x": [
          150,
          200,
          250,
          300,
          350,
          400,
          450,
          500,
          550,
          600,
          650,
          700,
          750,
          800,
          850,
          900,
          950,
          1000,
          1000,
          950,
          900,
          850,
          800,
          750,
          700,
          650,
          600,
          550,
          500,
          450,
          400,
          350,
          300,
          250,
          200,
          150
         ],
         "xaxis": "x3",
         "y": [
          34.43712,
          38.35221,
          40.594010000000004,
          42.18215,
          43.34986,
          44.12079,
          44.804232999999996,
          45.303146999999996,
          45.728407,
          46.064209,
          46.411755,
          46.644819999999996,
          46.856518,
          47.076036,
          47.250085,
          47.398908,
          47.540324000000005,
          47.678708,
          46.80569199999999,
          46.710276,
          46.515691999999994,
          46.288315,
          46.055364,
          45.825082,
          45.52838,
          45.200045,
          44.797391,
          44.332393,
          43.722853,
          43.098567,
          42.19861,
          41.14534,
          39.86845,
          37.74519,
          35.02919,
          30.365879999999997
         ],
         "yaxis": "y3"
        },
        {
         "hovertemplate": "algorithm=Basic<br>costumers=%{x}<br>income=%{y}<extra></extra>",
         "legendgroup": "Basic",
         "line": {
          "color": "#636efa",
          "dash": "solid"
         },
         "marker": {
          "symbol": "circle"
         },
         "mode": "lines",
         "name": "Basic",
         "orientation": "v",
         "showlegend": false,
         "type": "scatter",
         "x": [
          450,
          500,
          550,
          600,
          650,
          700,
          750,
          800,
          850,
          900,
          950,
          1000
         ],
         "xaxis": "x4",
         "y": [
          108.771,
          117.304,
          124.535,
          130.03,
          135.082,
          139.748,
          143.15,
          146.256,
          149.386,
          151.97,
          153.647,
          155.878
         ],
         "yaxis": "y4"
        },
        {
         "hovertemplate": "algorithm=Optimal<br>costumers=%{x}<br>income=%{y}<extra></extra>",
         "legendgroup": "Optimal",
         "line": {
          "color": "#EF553B",
          "dash": "solid"
         },
         "marker": {
          "symbol": "circle"
         },
         "mode": "lines",
         "name": "Optimal",
         "orientation": "v",
         "showlegend": false,
         "type": "scatter",
         "x": [
          450,
          500,
          550,
          600,
          650,
          700,
          750,
          800,
          850,
          900,
          950,
          1000
         ],
         "xaxis": "x4",
         "y": [
          109.971,
          118.682,
          125.98,
          132.221,
          137.283,
          141.726,
          145.303,
          148.801,
          151.92,
          154.614,
          156.885,
          158.907
         ],
         "yaxis": "y4"
        },
        {
         "fill": "toself",
         "fillcolor": "rgba(0,60,200,0.15)",
         "hoverinfo": "skip",
         "legendgroup": "Basic",
         "line": {
          "color": "rgba(255,255,255,0)"
         },
         "name": "Basic",
         "showlegend": false,
         "type": "scatter",
         "x": [
          450,
          500,
          550,
          600,
          650,
          700,
          750,
          800,
          850,
          900,
          950,
          1000,
          1000,
          950,
          900,
          850,
          800,
          750,
          700,
          650,
          600,
          550,
          500,
          450
         ],
         "xaxis": "x4",
         "y": [
          112.09725,
          121.27571,
          128.61889,
          134.58714,
          139.75741,
          144.54980999999998,
          148.38145,
          151.63962,
          154.64203,
          157.49079,
          159.53922,
          161.90257,
          149.85342999999997,
          147.75477999999998,
          146.44921,
          144.12997,
          140.87238,
          137.91855,
          134.94619,
          130.40659,
          125.47286,
          120.45111,
          113.33229,
          105.44475
         ],
         "yaxis": "y4"
        },
        {
         "fill": "toself",
         "fillcolor": "rgba(200,60,0,0.2)",
         "hoverinfo": "skip",
         "legendgroup": "Optimal",
         "line": {
          "color": "rgba(255,255,255,0)"
         },
         "name": "Optimal",
         "showlegend": false,
         "type": "scatter",
         "x": [
          450,
          500,
          550,
          600,
          650,
          700,
          750,
          800,
          850,
          900,
          950,
          1000,
          1000,
          950,
          900,
          850,
          800,
          750,
          700,
          650,
          600,
          550,
          500,
          450
         ],
         "xaxis": "x4",
         "y": [
          114.55732,
          123.03974,
          130.05276,
          136.17935,
          140.83859999999999,
          145.27965,
          148.72673,
          151.96087,
          154.94724,
          157.43211,
          159.54479999999998,
          161.58884,
          156.22516000000002,
          154.2252,
          151.79589,
          148.89275999999998,
          145.64112999999998,
          141.87927,
          138.17235,
          133.7274,
          128.26265,
          121.90724,
          114.32426000000001,
          105.38468
         ],
         "yaxis": "y4"
        }
       ],
       "layout": {
        "annotations": [
         {
          "font": {
           "size": 16
          },
          "showarrow": false,
          "text": "1 Tickets",
          "x": 0.225,
          "xanchor": "center",
          "xref": "paper",
          "y": 1,
          "yanchor": "bottom",
          "yref": "paper"
         },
         {
          "font": {
           "size": 16
          },
          "showarrow": false,
          "text": "10 Tickets",
          "x": 0.775,
          "xanchor": "center",
          "xref": "paper",
          "y": 1,
          "yanchor": "bottom",
          "yref": "paper"
         },
         {
          "font": {
           "size": 16
          },
          "showarrow": false,
          "text": "50 Tickets",
          "x": 0.225,
          "xanchor": "center",
          "xref": "paper",
          "y": 0.375,
          "yanchor": "bottom",
          "yref": "paper"
         },
         {
          "font": {
           "size": 16
          },
          "showarrow": false,
          "text": "200 Tickets",
          "x": 0.775,
          "xanchor": "center",
          "xref": "paper",
          "y": 0.375,
          "yanchor": "bottom",
          "yref": "paper"
         }
        ],
        "font": {
         "size": 11
        },
        "height": 500,
        "template": {
         "data": {
          "bar": [
           {
            "error_x": {
             "color": "#2a3f5f"
            },
            "error_y": {
             "color": "#2a3f5f"
            },
            "marker": {
             "line": {
              "color": "#E5ECF6",
              "width": 0.5
             },
             "pattern": {
              "fillmode": "overlay",
              "size": 10,
              "solidity": 0.2
             }
            },
            "type": "bar"
           }
          ],
          "barpolar": [
           {
            "marker": {
             "line": {
              "color": "#E5ECF6",
              "width": 0.5
             },
             "pattern": {
              "fillmode": "overlay",
              "size": 10,
              "solidity": 0.2
             }
            },
            "type": "barpolar"
           }
          ],
          "carpet": [
           {
            "aaxis": {
             "endlinecolor": "#2a3f5f",
             "gridcolor": "white",
             "linecolor": "white",
             "minorgridcolor": "white",
             "startlinecolor": "#2a3f5f"
            },
            "baxis": {
             "endlinecolor": "#2a3f5f",
             "gridcolor": "white",
             "linecolor": "white",
             "minorgridcolor": "white",
             "startlinecolor": "#2a3f5f"
            },
            "type": "carpet"
           }
          ],
          "choropleth": [
           {
            "colorbar": {
             "outlinewidth": 0,
             "ticks": ""
            },
            "type": "choropleth"
           }
          ],
          "contour": [
           {
            "colorbar": {
             "outlinewidth": 0,
             "ticks": ""
            },
            "colorscale": [
             [
              0,
              "#0d0887"
             ],
             [
              0.1111111111111111,
              "#46039f"
             ],
             [
              0.2222222222222222,
              "#7201a8"
             ],
             [
              0.3333333333333333,
              "#9c179e"
             ],
             [
              0.4444444444444444,
              "#bd3786"
             ],
             [
              0.5555555555555556,
              "#d8576b"
             ],
             [
              0.6666666666666666,
              "#ed7953"
             ],
             [
              0.7777777777777778,
              "#fb9f3a"
             ],
             [
              0.8888888888888888,
              "#fdca26"
             ],
             [
              1,
              "#f0f921"
             ]
            ],
            "type": "contour"
           }
          ],
          "contourcarpet": [
           {
            "colorbar": {
             "outlinewidth": 0,
             "ticks": ""
            },
            "type": "contourcarpet"
           }
          ],
          "heatmap": [
           {
            "colorbar": {
             "outlinewidth": 0,
             "ticks": ""
            },
            "colorscale": [
             [
              0,
              "#0d0887"
             ],
             [
              0.1111111111111111,
              "#46039f"
             ],
             [
              0.2222222222222222,
              "#7201a8"
             ],
             [
              0.3333333333333333,
              "#9c179e"
             ],
             [
              0.4444444444444444,
              "#bd3786"
             ],
             [
              0.5555555555555556,
              "#d8576b"
             ],
             [
              0.6666666666666666,
              "#ed7953"
             ],
             [
              0.7777777777777778,
              "#fb9f3a"
             ],
             [
              0.8888888888888888,
              "#fdca26"
             ],
             [
              1,
              "#f0f921"
             ]
            ],
            "type": "heatmap"
           }
          ],
          "heatmapgl": [
           {
            "colorbar": {
             "outlinewidth": 0,
             "ticks": ""
            },
            "colorscale": [
             [
              0,
              "#0d0887"
             ],
             [
              0.1111111111111111,
              "#46039f"
             ],
             [
              0.2222222222222222,
              "#7201a8"
             ],
             [
              0.3333333333333333,
              "#9c179e"
             ],
             [
              0.4444444444444444,
              "#bd3786"
             ],
             [
              0.5555555555555556,
              "#d8576b"
             ],
             [
              0.6666666666666666,
              "#ed7953"
             ],
             [
              0.7777777777777778,
              "#fb9f3a"
             ],
             [
              0.8888888888888888,
              "#fdca26"
             ],
             [
              1,
              "#f0f921"
             ]
            ],
            "type": "heatmapgl"
           }
          ],
          "histogram": [
           {
            "marker": {
             "pattern": {
              "fillmode": "overlay",
              "size": 10,
              "solidity": 0.2
             }
            },
            "type": "histogram"
           }
          ],
          "histogram2d": [
           {
            "colorbar": {
             "outlinewidth": 0,
             "ticks": ""
            },
            "colorscale": [
             [
              0,
              "#0d0887"
             ],
             [
              0.1111111111111111,
              "#46039f"
             ],
             [
              0.2222222222222222,
              "#7201a8"
             ],
             [
              0.3333333333333333,
              "#9c179e"
             ],
             [
              0.4444444444444444,
              "#bd3786"
             ],
             [
              0.5555555555555556,
              "#d8576b"
             ],
             [
              0.6666666666666666,
              "#ed7953"
             ],
             [
              0.7777777777777778,
              "#fb9f3a"
             ],
             [
              0.8888888888888888,
              "#fdca26"
             ],
             [
              1,
              "#f0f921"
             ]
            ],
            "type": "histogram2d"
           }
          ],
          "histogram2dcontour": [
           {
            "colorbar": {
             "outlinewidth": 0,
             "ticks": ""
            },
            "colorscale": [
             [
              0,
              "#0d0887"
             ],
             [
              0.1111111111111111,
              "#46039f"
             ],
             [
              0.2222222222222222,
              "#7201a8"
             ],
             [
              0.3333333333333333,
              "#9c179e"
             ],
             [
              0.4444444444444444,
              "#bd3786"
             ],
             [
              0.5555555555555556,
              "#d8576b"
             ],
             [
              0.6666666666666666,
              "#ed7953"
             ],
             [
              0.7777777777777778,
              "#fb9f3a"
             ],
             [
              0.8888888888888888,
              "#fdca26"
             ],
             [
              1,
              "#f0f921"
             ]
            ],
            "type": "histogram2dcontour"
           }
          ],
          "mesh3d": [
           {
            "colorbar": {
             "outlinewidth": 0,
             "ticks": ""
            },
            "type": "mesh3d"
           }
          ],
          "parcoords": [
           {
            "line": {
             "colorbar": {
              "outlinewidth": 0,
              "ticks": ""
             }
            },
            "type": "parcoords"
           }
          ],
          "pie": [
           {
            "automargin": true,
            "type": "pie"
           }
          ],
          "scatter": [
           {
            "fillpattern": {
             "fillmode": "overlay",
             "size": 10,
             "solidity": 0.2
            },
            "type": "scatter"
           }
          ],
          "scatter3d": [
           {
            "line": {
             "colorbar": {
              "outlinewidth": 0,
              "ticks": ""
             }
            },
            "marker": {
             "colorbar": {
              "outlinewidth": 0,
              "ticks": ""
             }
            },
            "type": "scatter3d"
           }
          ],
          "scattercarpet": [
           {
            "marker": {
             "colorbar": {
              "outlinewidth": 0,
              "ticks": ""
             }
            },
            "type": "scattercarpet"
           }
          ],
          "scattergeo": [
           {
            "marker": {
             "colorbar": {
              "outlinewidth": 0,
              "ticks": ""
             }
            },
            "type": "scattergeo"
           }
          ],
          "scattergl": [
           {
            "marker": {
             "colorbar": {
              "outlinewidth": 0,
              "ticks": ""
             }
            },
            "type": "scattergl"
           }
          ],
          "scattermapbox": [
           {
            "marker": {
             "colorbar": {
              "outlinewidth": 0,
              "ticks": ""
             }
            },
            "type": "scattermapbox"
           }
          ],
          "scatterpolar": [
           {
            "marker": {
             "colorbar": {
              "outlinewidth": 0,
              "ticks": ""
             }
            },
            "type": "scatterpolar"
           }
          ],
          "scatterpolargl": [
           {
            "marker": {
             "colorbar": {
              "outlinewidth": 0,
              "ticks": ""
             }
            },
            "type": "scatterpolargl"
           }
          ],
          "scatterternary": [
           {
            "marker": {
             "colorbar": {
              "outlinewidth": 0,
              "ticks": ""
             }
            },
            "type": "scatterternary"
           }
          ],
          "surface": [
           {
            "colorbar": {
             "outlinewidth": 0,
             "ticks": ""
            },
            "colorscale": [
             [
              0,
              "#0d0887"
             ],
             [
              0.1111111111111111,
              "#46039f"
             ],
             [
              0.2222222222222222,
              "#7201a8"
             ],
             [
              0.3333333333333333,
              "#9c179e"
             ],
             [
              0.4444444444444444,
              "#bd3786"
             ],
             [
              0.5555555555555556,
              "#d8576b"
             ],
             [
              0.6666666666666666,
              "#ed7953"
             ],
             [
              0.7777777777777778,
              "#fb9f3a"
             ],
             [
              0.8888888888888888,
              "#fdca26"
             ],
             [
              1,
              "#f0f921"
             ]
            ],
            "type": "surface"
           }
          ],
          "table": [
           {
            "cells": {
             "fill": {
              "color": "#EBF0F8"
             },
             "line": {
              "color": "white"
             }
            },
            "header": {
             "fill": {
              "color": "#C8D4E3"
             },
             "line": {
              "color": "white"
             }
            },
            "type": "table"
           }
          ]
         },
         "layout": {
          "annotationdefaults": {
           "arrowcolor": "#2a3f5f",
           "arrowhead": 0,
           "arrowwidth": 1
          },
          "autotypenumbers": "strict",
          "coloraxis": {
           "colorbar": {
            "outlinewidth": 0,
            "ticks": ""
           }
          },
          "colorscale": {
           "diverging": [
            [
             0,
             "#8e0152"
            ],
            [
             0.1,
             "#c51b7d"
            ],
            [
             0.2,
             "#de77ae"
            ],
            [
             0.3,
             "#f1b6da"
            ],
            [
             0.4,
             "#fde0ef"
            ],
            [
             0.5,
             "#f7f7f7"
            ],
            [
             0.6,
             "#e6f5d0"
            ],
            [
             0.7,
             "#b8e186"
            ],
            [
             0.8,
             "#7fbc41"
            ],
            [
             0.9,
             "#4d9221"
            ],
            [
             1,
             "#276419"
            ]
           ],
           "sequential": [
            [
             0,
             "#0d0887"
            ],
            [
             0.1111111111111111,
             "#46039f"
            ],
            [
             0.2222222222222222,
             "#7201a8"
            ],
            [
             0.3333333333333333,
             "#9c179e"
            ],
            [
             0.4444444444444444,
             "#bd3786"
            ],
            [
             0.5555555555555556,
             "#d8576b"
            ],
            [
             0.6666666666666666,
             "#ed7953"
            ],
            [
             0.7777777777777778,
             "#fb9f3a"
            ],
            [
             0.8888888888888888,
             "#fdca26"
            ],
            [
             1,
             "#f0f921"
            ]
           ],
           "sequentialminus": [
            [
             0,
             "#0d0887"
            ],
            [
             0.1111111111111111,
             "#46039f"
            ],
            [
             0.2222222222222222,
             "#7201a8"
            ],
            [
             0.3333333333333333,
             "#9c179e"
            ],
            [
             0.4444444444444444,
             "#bd3786"
            ],
            [
             0.5555555555555556,
             "#d8576b"
            ],
            [
             0.6666666666666666,
             "#ed7953"
            ],
            [
             0.7777777777777778,
             "#fb9f3a"
            ],
            [
             0.8888888888888888,
             "#fdca26"
            ],
            [
             1,
             "#f0f921"
            ]
           ]
          },
          "colorway": [
           "#636efa",
           "#EF553B",
           "#00cc96",
           "#ab63fa",
           "#FFA15A",
           "#19d3f3",
           "#FF6692",
           "#B6E880",
           "#FF97FF",
           "#FECB52"
          ],
          "font": {
           "color": "#2a3f5f"
          },
          "geo": {
           "bgcolor": "white",
           "lakecolor": "white",
           "landcolor": "#E5ECF6",
           "showlakes": true,
           "showland": true,
           "subunitcolor": "white"
          },
          "hoverlabel": {
           "align": "left"
          },
          "hovermode": "closest",
          "mapbox": {
           "style": "light"
          },
          "paper_bgcolor": "white",
          "plot_bgcolor": "#E5ECF6",
          "polar": {
           "angularaxis": {
            "gridcolor": "white",
            "linecolor": "white",
            "ticks": ""
           },
           "bgcolor": "#E5ECF6",
           "radialaxis": {
            "gridcolor": "white",
            "linecolor": "white",
            "ticks": ""
           }
          },
          "scene": {
           "xaxis": {
            "backgroundcolor": "#E5ECF6",
            "gridcolor": "white",
            "gridwidth": 2,
            "linecolor": "white",
            "showbackground": true,
            "ticks": "",
            "zerolinecolor": "white"
           },
           "yaxis": {
            "backgroundcolor": "#E5ECF6",
            "gridcolor": "white",
            "gridwidth": 2,
            "linecolor": "white",
            "showbackground": true,
            "ticks": "",
            "zerolinecolor": "white"
           },
           "zaxis": {
            "backgroundcolor": "#E5ECF6",
            "gridcolor": "white",
            "gridwidth": 2,
            "linecolor": "white",
            "showbackground": true,
            "ticks": "",
            "zerolinecolor": "white"
           }
          },
          "shapedefaults": {
           "line": {
            "color": "#2a3f5f"
           }
          },
          "ternary": {
           "aaxis": {
            "gridcolor": "white",
            "linecolor": "white",
            "ticks": ""
           },
           "baxis": {
            "gridcolor": "white",
            "linecolor": "white",
            "ticks": ""
           },
           "bgcolor": "#E5ECF6",
           "caxis": {
            "gridcolor": "white",
            "linecolor": "white",
            "ticks": ""
           }
          },
          "title": {
           "x": 0.05
          },
          "xaxis": {
           "automargin": true,
           "gridcolor": "white",
           "linecolor": "white",
           "ticks": "",
           "title": {
            "standoff": 15
           },
           "zerolinecolor": "white",
           "zerolinewidth": 2
          },
          "yaxis": {
           "automargin": true,
           "gridcolor": "white",
           "linecolor": "white",
           "ticks": "",
           "title": {
            "standoff": 15
           },
           "zerolinecolor": "white",
           "zerolinewidth": 2
          }
         }
        },
        "title": {
         "text": "Income"
        },
        "width": 1000,
        "xaxis": {
         "anchor": "y",
         "domain": [
          0,
          0.45
         ],
         "title": {
          "text": "Costumers"
         }
        },
        "xaxis2": {
         "anchor": "y2",
         "domain": [
          0.55,
          1
         ],
         "title": {
          "text": "Costumers"
         }
        },
        "xaxis3": {
         "anchor": "y3",
         "domain": [
          0,
          0.45
         ],
         "title": {
          "text": "Costumers"
         }
        },
        "xaxis4": {
         "anchor": "y4",
         "domain": [
          0.55,
          1
         ],
         "title": {
          "text": "Costumers"
         }
        },
        "yaxis": {
         "anchor": "x",
         "domain": [
          0.625,
          1
         ],
         "title": {
          "text": "Income"
         }
        },
        "yaxis2": {
         "anchor": "x2",
         "domain": [
          0.625,
          1
         ],
         "title": {
          "text": "Income"
         }
        },
        "yaxis3": {
         "anchor": "x3",
         "domain": [
          0,
          0.375
         ],
         "title": {
          "text": "Income"
         }
        },
        "yaxis4": {
         "anchor": "x4",
         "domain": [
          0,
          0.375
         ],
         "title": {
          "text": "Income"
         }
        }
       }
      }
     },
     "metadata": {},
     "output_type": "display_data"
    }
   ],
   "source": [
    "# Put the time plots in a 2x2 grid\n",
    "fig = make_subplots(rows=2, cols=2, subplot_titles=[f'{i} Tickets' for i in results['tickets'].unique()])\n",
    "fig.update_layout(height=500, width=1000, title_text='Income')\n",
    "fig.update_xaxes(title_text='Costumers')\n",
    "fig.update_yaxes(title_text='Income')\n",
    "fig.update_traces(mode='markers+lines')\n",
    "\n",
    "# smaller font size\n",
    "fig.update_layout(font=dict(size=11))\n",
    "\n",
    "\n",
    "i = 0\n",
    "for tickets in results['tickets'].unique():\n",
    "    data = results[results['tickets'] == tickets]\n",
    "    subfig = px.line(data, x='costumers', y='income', color='algorithm', title=f'Income - {tickets} Tickets')\n",
    "    subfig.update_layout(showlegend=False)\n",
    "    subfig.data[0].update(legendgroup='Basic', showlegend=False)\n",
    "    subfig.data[1].update(legendgroup='Optimal', showlegend=False)\n",
    "\n",
    "    data_basic = data[data['algorithm'] == 'Basic']\n",
    "    basic_upper = data_basic['income'] + data_basic['stdDev']\n",
    "    basic_lower = data_basic['income'] - data_basic['stdDev']\n",
    "    # add std deviation band\n",
    "    subfig.add_traces(go.Scatter(\n",
    "        x=subfig.data[0].x.tolist() + subfig.data[0].x.tolist()[::-1],\n",
    "        y=basic_upper.tolist() + basic_lower.tolist()[::-1],\n",
    "        fill='toself',\n",
    "        fillcolor='rgba(0,60,200,0.15)',\n",
    "        line=dict(color='rgba(255,255,255,0)'),\n",
    "        showlegend=False,\n",
    "        legendgroup='Basic',\n",
    "        hoverinfo='skip',\n",
    "        name='Basic',\n",
    "    ))\n",
    "\n",
    "    data_optimal = data[data['algorithm'] == 'Optimal']\n",
    "    optimal_upper = data_optimal['income'] + data_optimal['stdDev']\n",
    "    optimal_lower = data_optimal['income'] - data_optimal['stdDev']\n",
    "    # add std deviation band\n",
    "    subfig.add_traces(go.Scatter(\n",
    "        x=subfig.data[1].x.tolist() + subfig.data[1].x.tolist()[::-1],\n",
    "        y=optimal_upper.tolist() + optimal_lower.tolist()[::-1],\n",
    "        fill='toself',\n",
    "        fillcolor='rgba(200,60,0,0.2)',\n",
    "        line=dict(color='rgba(255,255,255,0)'),\n",
    "        showlegend=False,\n",
    "        legendgroup='Optimal',\n",
    "        hoverinfo='skip',\n",
    "        name='Optimal',\n",
    "    ))\n",
    "\n",
    "    fig.add_trace(subfig.data[0], row=i//2+1, col=i%2+1)\n",
    "    fig.add_trace(subfig.data[1], row=i//2+1, col=i%2+1)\n",
    "    fig.add_trace(subfig.data[2], row=i//2+1, col=i%2+1)\n",
    "    fig.add_trace(subfig.data[3], row=i//2+1, col=i%2+1)\n",
    "    i += 1\n",
    "\n",
    "# show legends only once\n",
    "fig.data[0].update(showlegend=True)\n",
    "fig.data[1].update(showlegend=True)\n",
    "fig.show()"
   ]
  },
  {
   "cell_type": "code",
   "execution_count": null,
   "metadata": {},
   "outputs": [],
   "source": []
  }
 ],
 "metadata": {
  "kernelspec": {
   "display_name": "Python 3",
   "language": "python",
   "name": "python3"
  },
  "language_info": {
   "codemirror_mode": {
    "name": "ipython",
    "version": 3
   },
   "file_extension": ".py",
   "mimetype": "text/x-python",
   "name": "python",
   "nbconvert_exporter": "python",
   "pygments_lexer": "ipython3",
   "version": "3.9.10"
  },
  "orig_nbformat": 4
 },
 "nbformat": 4,
 "nbformat_minor": 2
}
